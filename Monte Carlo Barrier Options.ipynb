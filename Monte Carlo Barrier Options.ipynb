{
 "cells": [
  {
   "cell_type": "code",
   "execution_count": 1,
   "metadata": {},
   "outputs": [],
   "source": [
    "import numpy as np\n",
    "import pandas as pd\n",
    "import statistics\n",
    "import scipy.stats as sp\n",
    "import time\n",
    "from datetime import timedelta, date\n",
    "import warnings\n",
    "from scipy.stats import norm\n",
    "warnings.filterwarnings(\"ignore\")\n",
    "from sklearn.linear_model import LinearRegression\n",
    "import matplotlib.pyplot as plt\n"
   ]
  },
  {
   "cell_type": "markdown",
   "metadata": {},
   "source": [
    "FINAL IMPLEMENTATION"
   ]
  },
  {
   "cell_type": "markdown",
   "metadata": {},
   "source": [
    "STEPS:\n",
    "\n",
    "simulate 100k random GBM paths\n",
    "use the same sample of 100k paths to price different instruments. Our paths start with the spot price of the SPY ETF, and assume a RFR and IV taken from the internet. At the time of calculation, the spot is ~ $606, the RFR is ~ 4.25%, and the IV of SPY is ~12%\n",
    "- up and in Call and Puts\n",
    "- up and out Cal and Puts\n",
    "- down and in Call and Puts\n",
    "- down and out Call and Puts\n",
    "\n",
    "Run each price with the barrier at varying levels of a given S0: \n",
    "- take the strike price = S0\n",
    "- We can take S0 as the spot price for the SPY ETF (~606 at the time of calculation)\n",
    "- scale up the barrier by 5% increments of S0:  i.e. b = S0, b = 1.05*S0,... b = 1.45*S0, b = 1.5*S0 \n",
    "- increment up to a level of 1.5 * S0\n",
    "\n",
    "Follow the same procedure for \"down barriers\" starting at 0.95*S0, down to 0.5*S0\n",
    "\n",
    "For each barrier level, calculate a vanilla call and put option where k = b using both the average of simulated paths, and an exact Black-Scholes pricing methods.\n",
    "This serves to give us confidence that our paths and methodology are valid. "
   ]
  },
  {
   "cell_type": "code",
   "execution_count": 2,
   "metadata": {},
   "outputs": [],
   "source": [
    "def sim_MC_paths(S0, T, r, sigma, n, M):\n",
    "    \"\"\"\n",
    "    Parameters:\n",
    "    S0: initial price\n",
    "    T: time to maturity \n",
    "    r: risk free rate\n",
    "    sigma: volatility\n",
    "    n: number of time steps\n",
    "    M: number of paths\n",
    "    \"\"\"\n",
    "    paths = []\n",
    "    dt = T / n\n",
    "    \n",
    "    #simulate M paths\n",
    "    for _ in range(M):\n",
    "        s = [S0] #declare list of prices \n",
    "        #increment n timesteps\n",
    "        for _ in range(n):\n",
    "            z = np.random.normal(0,1)\n",
    "            px = s[-1] * np.exp((r - 0.5 * sigma**2) * dt + sigma * np.sqrt(dt) * z) #get next price based on prev. price in list\n",
    "            s.append(px)\n",
    "        paths.append(s)\n",
    "    return paths\n",
    "\n",
    "def calc_BS_Option_Price(So, sigma, t, K, r, optType):\n",
    "    d_plus = (np.log(So/K) + (r + (sigma**2)/2)*t)/(sigma*np.sqrt(t))\n",
    "    d_minus = d_plus - sigma * np.sqrt(t)\n",
    "    if optType == \"call\":\n",
    "        price = So*norm.cdf(d_plus) - K*np.exp(-r*t)*norm.cdf(d_minus)\n",
    "    elif optType == \"put\":\n",
    "        price = K*np.exp(-r*t)*norm.cdf(-d_minus) - So*norm.cdf(-d_plus)\n",
    "    return price\n"
   ]
  },
  {
   "cell_type": "code",
   "execution_count": null,
   "metadata": {},
   "outputs": [
    {
     "ename": "KeyboardInterrupt",
     "evalue": "",
     "output_type": "error",
     "traceback": [
      "\u001b[1;31m---------------------------------------------------------------------------\u001b[0m",
      "\u001b[1;31mKeyboardInterrupt\u001b[0m                         Traceback (most recent call last)",
      "Cell \u001b[1;32mIn[3], line 1\u001b[0m\n\u001b[1;32m----> 1\u001b[0m paths \u001b[38;5;241m=\u001b[39m sim_MC_paths(\u001b[38;5;241m100\u001b[39m,\u001b[38;5;241m0.5\u001b[39m,\u001b[38;5;241m0.05\u001b[39m,\u001b[38;5;241m.2\u001b[39m,\u001b[38;5;241m252\u001b[39m,\u001b[38;5;241m100000\u001b[39m)\n",
      "Cell \u001b[1;32mIn[2], line 20\u001b[0m, in \u001b[0;36msim_MC_paths\u001b[1;34m(S0, T, r, sigma, n, M)\u001b[0m\n\u001b[0;32m     18\u001b[0m \u001b[38;5;28;01mfor\u001b[39;00m _ \u001b[38;5;129;01min\u001b[39;00m \u001b[38;5;28mrange\u001b[39m(n):\n\u001b[0;32m     19\u001b[0m     z \u001b[38;5;241m=\u001b[39m np\u001b[38;5;241m.\u001b[39mrandom\u001b[38;5;241m.\u001b[39mnormal(\u001b[38;5;241m0\u001b[39m,\u001b[38;5;241m1\u001b[39m)\n\u001b[1;32m---> 20\u001b[0m     px \u001b[38;5;241m=\u001b[39m s[\u001b[38;5;241m-\u001b[39m\u001b[38;5;241m1\u001b[39m] \u001b[38;5;241m*\u001b[39m np\u001b[38;5;241m.\u001b[39mexp((r \u001b[38;5;241m-\u001b[39m \u001b[38;5;241m0.5\u001b[39m \u001b[38;5;241m*\u001b[39m sigma\u001b[38;5;241m*\u001b[39m\u001b[38;5;241m*\u001b[39m\u001b[38;5;241m2\u001b[39m) \u001b[38;5;241m*\u001b[39m dt \u001b[38;5;241m+\u001b[39m sigma \u001b[38;5;241m*\u001b[39m np\u001b[38;5;241m.\u001b[39msqrt(dt) \u001b[38;5;241m*\u001b[39m z) \u001b[38;5;66;03m#get next price based on prev. price in list\u001b[39;00m\n\u001b[0;32m     21\u001b[0m     s\u001b[38;5;241m.\u001b[39mappend(px)\n\u001b[0;32m     22\u001b[0m paths\u001b[38;5;241m.\u001b[39mappend(s)\n",
      "\u001b[1;31mKeyboardInterrupt\u001b[0m: "
     ]
    }
   ],
   "source": [
    "# paths = sim_MC_paths(100,0.5,0.05,.2,252,100000) "
   ]
  },
  {
   "cell_type": "code",
   "execution_count": 18,
   "metadata": {},
   "outputs": [],
   "source": [
    "results = pd.DataFrame(columns=['barrier_Scale','in_call','out_call','in_put','out_put','sim_call','sim_put', 'bs_call','bs_put'])\n",
    "\n",
    "s0 = 120  # Initial stock price\n",
    "k = 90  # Strike price\n",
    "r = 0.04  # Risk-free interest rate\n",
    "sigma = 0.25  # Volatility of the underlying asset\n",
    "T = 0.5  # Time to maturity in years\n",
    "n = 252\n",
    "M = 100000\n",
    "paths = sim_MC_paths(s0,T,r,sigma,n,M)\n",
    "\n",
    "s0Scales = [110]\n",
    "\n",
    "for n in s0Scales:\n",
    "    b =  n\n",
    "    kicall = []\n",
    "    kiput = []\n",
    "    kocall = []\n",
    "    koput = []\n",
    "    vput = []\n",
    "    vcall = []\n",
    "    for s in paths:    \n",
    "        if b > s0: #up options\n",
    "            if max(s) > b: #knock in\n",
    "                kicall.append(max(s[-1] - k, 0))\n",
    "                kocall.append(0)\n",
    "                kiput.append(max(k - s[-1], 0))\n",
    "                koput.append(0)\n",
    "            else: #knock out\n",
    "                kicall.append(0)\n",
    "                kocall.append(max(s[-1] - k,0))\n",
    "                kiput.append(0)\n",
    "                koput.append(max(k - s[-1],0))\n",
    "        else: #down options\n",
    "            if min(s) < b: #knock in \n",
    "                kicall.append(max(s[-1] - k, 0))\n",
    "                kocall.append(0)\n",
    "                kiput.append(max(k - s[-1], 0))\n",
    "                koput.append(0)\n",
    "            else: #knock out\n",
    "                kicall.append(0)\n",
    "                kocall.append(max(s[-1] - k,0))\n",
    "                kiput.append(0)\n",
    "                koput.append(max(k - s[-1],0))\n",
    "        #vanilla options with k = b\n",
    "        vcall.append(max(s[-1] - b, 0))\n",
    "        vput.append(max(b - s[-1],0))\n",
    "\n",
    "    price_kicall = np.exp(-r * T) * np.mean(kicall)\n",
    "    price_kiput = np.exp(-r * T) * np.mean(kiput)\n",
    "    price_kocall = np.exp(-r * T) * np.mean(kocall)\n",
    "    price_koput = np.exp(-r * T) * np.mean(koput)\n",
    "    price_vcall = np.exp(-r * T) * np.mean(vcall)\n",
    "    price_vput = np.exp(-r * T) * np.mean(vput)\n",
    "    price_bs_call = calc_BS_Option_Price(s0, sigma, T, b, r, \"call\")\n",
    "    price_bs_put = calc_BS_Option_Price(s0, sigma, T, b, r, \"put\")\n",
    "    results.loc[len(results)] = [n,price_kicall,price_kocall,price_kiput,price_koput,price_vcall,price_vput,price_bs_call,price_bs_put]\n",
    "\n"
   ]
  },
  {
   "cell_type": "code",
   "execution_count": 19,
   "metadata": {},
   "outputs": [
    {
     "data": {
      "text/html": [
       "<div>\n",
       "<style scoped>\n",
       "    .dataframe tbody tr th:only-of-type {\n",
       "        vertical-align: middle;\n",
       "    }\n",
       "\n",
       "    .dataframe tbody tr th {\n",
       "        vertical-align: top;\n",
       "    }\n",
       "\n",
       "    .dataframe thead th {\n",
       "        text-align: right;\n",
       "    }\n",
       "</style>\n",
       "<table border=\"1\" class=\"dataframe\">\n",
       "  <thead>\n",
       "    <tr style=\"text-align: right;\">\n",
       "      <th></th>\n",
       "      <th>barrier_Scale</th>\n",
       "      <th>in_call</th>\n",
       "      <th>out_call</th>\n",
       "      <th>in_put</th>\n",
       "      <th>out_put</th>\n",
       "      <th>sim_call</th>\n",
       "      <th>sim_put</th>\n",
       "      <th>bs_call</th>\n",
       "      <th>bs_put</th>\n",
       "    </tr>\n",
       "  </thead>\n",
       "  <tbody>\n",
       "    <tr>\n",
       "      <th>0</th>\n",
       "      <td>110.0</td>\n",
       "      <td>12.253018</td>\n",
       "      <td>19.880091</td>\n",
       "      <td>0.301009</td>\n",
       "      <td>0.0</td>\n",
       "      <td>15.568295</td>\n",
       "      <td>3.340168</td>\n",
       "      <td>15.53334</td>\n",
       "      <td>3.355194</td>\n",
       "    </tr>\n",
       "  </tbody>\n",
       "</table>\n",
       "</div>"
      ],
      "text/plain": [
       "   barrier_Scale    in_call   out_call    in_put  out_put   sim_call  \\\n",
       "0          110.0  12.253018  19.880091  0.301009      0.0  15.568295   \n",
       "\n",
       "    sim_put   bs_call    bs_put  \n",
       "0  3.340168  15.53334  3.355194  "
      ]
     },
     "execution_count": 19,
     "metadata": {},
     "output_type": "execute_result"
    }
   ],
   "source": [
    "results"
   ]
  },
  {
   "cell_type": "markdown",
   "metadata": {},
   "source": [
    "TESTING IMPLEMENTATION "
   ]
  },
  {
   "cell_type": "code",
   "execution_count": null,
   "metadata": {},
   "outputs": [],
   "source": [
    "def barrier_option_pricing(S0, K, B, T, r, sigma, N, M):\n",
    "    \"\"\"\n",
    "    Parameters:\n",
    "        S0: Initial stock price\n",
    "        K: Strike price\n",
    "        B: Barrier level\n",
    "        T: Time to maturity \n",
    "        r: Risk-free interest rate\n",
    "        sigma: Volatility\n",
    "        N: Number of time steps\n",
    "        M: Number of simulations\n",
    "    \"\"\"\n",
    "\n",
    "    dt = T / N\n",
    "    knockIn = []\n",
    "    knockOut = []\n",
    "\n",
    "    for _ in range(M):\n",
    "        S = [S0]\n",
    "        for _ in range(N):\n",
    "            z = np.random.normal(0, 1)\n",
    "            S.append(S[-1] * np.exp((r - 0.5 * sigma**2) * dt + sigma * np.sqrt(dt) * z))\n",
    "        if B >= S0: #up and in/out\n",
    "            if max(S) > B:  # Check if the barrier is hit\n",
    "                knockOut.append(0) #knock out \n",
    "                knockIn.append(max(S[-1] - K, 0)) #knock in\n",
    "            else:\n",
    "                knockOut.append(max(S[-1] - K, 0))  #knock out\n",
    "                knockIn.append(0) #knock in\n",
    "        else: #down and in/out\n",
    "            if min(S) < B:\n",
    "                knockOut.append(0) #knock out \n",
    "                knockIn.append(max(S[-1] - K, 0)) #knock in\n",
    "            else:\n",
    "                knockOut.append(max(S[-1] - K, 0))  #knock out\n",
    "                knockIn.append(0) #knock in\n",
    "\n",
    "    kiprice = np.exp(-r * T) * np.mean(knockIn)\n",
    "    koprice = np.exp(-r * T) * np.mean(knockOut)\n",
    "    discKI = [i * np.exp(-r * T) for i in knockIn]\n",
    "    discKO = [i * np.exp(-r * T) for i in knockOut]\n",
    "    stdErrKI = sp.sem(discKI)\n",
    "    stdErrKO = sp.sem(discKO)\n",
    "    return kiprice,koprice, stdErrKI, stdErrKO\n",
    "\n"
   ]
  },
  {
   "cell_type": "code",
   "execution_count": 83,
   "metadata": {},
   "outputs": [
    {
     "name": "stdout",
     "output_type": "stream",
     "text": [
      "Up-and-out call option price: 0.047349991349125674 10.265800466944233 0.02135490443980646 0.1426809507964907\n"
     ]
    }
   ],
   "source": [
    "# Example usage\n",
    "S0 = 100\n",
    "K = 100\n",
    "B = 200\n",
    "T = 1\n",
    "r = 0.05\n",
    "sigma = 0.2\n",
    "N = 252\n",
    "M = 10000\n",
    "\n",
    "knockin, knockout, kiErr, koErr = barrier_option_pricing(S0, K, B, T, r, sigma, N, M)\n",
    "print(\"Up-and-out call option price:\", knockin, knockout, kiErr, koErr)\n"
   ]
  },
  {
   "cell_type": "code",
   "execution_count": 89,
   "metadata": {},
   "outputs": [
    {
     "name": "stdout",
     "output_type": "stream",
     "text": [
      "MC call:  6.652543410673003 MC put:  6.222731050210485\n",
      "BS call:  6.4345060239691065 BS put:  6.175311537414064\n"
     ]
    }
   ],
   "source": [
    "call, put = monteCarloSimOptions(50,51,0.5,0.05,0.45,252,10000) #n=252\n",
    "bscall = calc_BS_Option_Price(50,0.45,0.5,51,0.05,\"call\")\n",
    "bsput = calc_BS_Option_Price(50,0.45,0.5,51,0.05,\"put\")\n",
    "print(\"MC call: \", call, \"MC put: \" ,put)\n",
    "print(\"BS call: \", bscall, \"BS put: \" ,bsput)"
   ]
  }
 ],
 "metadata": {
  "kernelspec": {
   "display_name": "statclass",
   "language": "python",
   "name": "python3"
  },
  "language_info": {
   "codemirror_mode": {
    "name": "ipython",
    "version": 3
   },
   "file_extension": ".py",
   "mimetype": "text/x-python",
   "name": "python",
   "nbconvert_exporter": "python",
   "pygments_lexer": "ipython3",
   "version": "3.11.7"
  }
 },
 "nbformat": 4,
 "nbformat_minor": 2
}
